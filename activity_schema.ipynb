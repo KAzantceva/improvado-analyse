{
 "cells": [
  {
   "cell_type": "code",
   "execution_count": 154,
   "metadata": {},
   "outputs": [],
   "source": [
    "import pandas as pd\n",
    "import networkx as nx\n",
    "import matplotlib.pyplot as plt"
   ]
  },
  {
   "cell_type": "code",
   "execution_count": 155,
   "metadata": {},
   "outputs": [
    {
     "data": {
      "text/html": [
       "<div>\n",
       "<style scoped>\n",
       "    .dataframe tbody tr th:only-of-type {\n",
       "        vertical-align: middle;\n",
       "    }\n",
       "\n",
       "    .dataframe tbody tr th {\n",
       "        vertical-align: top;\n",
       "    }\n",
       "\n",
       "    .dataframe thead th {\n",
       "        text-align: right;\n",
       "    }\n",
       "</style>\n",
       "<table border=\"1\" class=\"dataframe\">\n",
       "  <thead>\n",
       "    <tr style=\"text-align: right;\">\n",
       "      <th></th>\n",
       "      <th>case_id</th>\n",
       "      <th>timestamp</th>\n",
       "      <th>activity</th>\n",
       "      <th>duration</th>\n",
       "      <th>attributes</th>\n",
       "    </tr>\n",
       "  </thead>\n",
       "  <tbody>\n",
       "    <tr>\n",
       "      <th>0</th>\n",
       "      <td>cng.edu</td>\n",
       "      <td>2022-02-09</td>\n",
       "      <td>user_session</td>\n",
       "      <td>0</td>\n",
       "      <td>['traffic_source:google.com','traffic_medium:o...</td>\n",
       "    </tr>\n",
       "    <tr>\n",
       "      <th>1</th>\n",
       "      <td>cng.edu</td>\n",
       "      <td>2021-11-29</td>\n",
       "      <td>contact created</td>\n",
       "      <td>0</td>\n",
       "      <td>['contact_job_title:Director of Technology and...</td>\n",
       "    </tr>\n",
       "    <tr>\n",
       "      <th>2</th>\n",
       "      <td>cng.edu</td>\n",
       "      <td>2021-11-30</td>\n",
       "      <td>disco_call_book</td>\n",
       "      <td>-2</td>\n",
       "      <td>['desired_job_title','call_booked_by_contact_j...</td>\n",
       "    </tr>\n",
       "    <tr>\n",
       "      <th>3</th>\n",
       "      <td>cng.edu</td>\n",
       "      <td>2021-11-29</td>\n",
       "      <td>lead_created</td>\n",
       "      <td>-3</td>\n",
       "      <td>[]</td>\n",
       "    </tr>\n",
       "    <tr>\n",
       "      <th>4</th>\n",
       "      <td>cng.edu</td>\n",
       "      <td>2021-11-29</td>\n",
       "      <td>user_session</td>\n",
       "      <td>0</td>\n",
       "      <td>['traffic_source:google.com','traffic_medium:o...</td>\n",
       "    </tr>\n",
       "  </tbody>\n",
       "</table>\n",
       "</div>"
      ],
      "text/plain": [
       "   case_id   timestamp         activity  duration  \\\n",
       "0  cng.edu  2022-02-09     user_session         0   \n",
       "1  cng.edu  2021-11-29  contact created         0   \n",
       "2  cng.edu  2021-11-30  disco_call_book        -2   \n",
       "3  cng.edu  2021-11-29     lead_created        -3   \n",
       "4  cng.edu  2021-11-29     user_session         0   \n",
       "\n",
       "                                          attributes  \n",
       "0  ['traffic_source:google.com','traffic_medium:o...  \n",
       "1  ['contact_job_title:Director of Technology and...  \n",
       "2  ['desired_job_title','call_booked_by_contact_j...  \n",
       "3                                                 []  \n",
       "4  ['traffic_source:google.com','traffic_medium:o...  "
      ]
     },
     "execution_count": 155,
     "metadata": {},
     "output_type": "execute_result"
    }
   ],
   "source": [
    "data = pd.read_csv('data/events1.csv')\n",
    "data.head()"
   ]
  },
  {
   "cell_type": "code",
   "execution_count": 156,
   "metadata": {},
   "outputs": [],
   "source": [
    "# Rename the columns\n",
    "data = data.rename(columns={\n",
    "    'case_id': 'case_id',\n",
    "    'tupleElement(event_tuple, 1)': 'timestamp',\n",
    "    'tupleElement(event_tuple, 2)': 'activity',\n",
    "    'tupleElement(event_tuple, 3)': 'duration',\n",
    "    'tupleElement(event_tuple, 4)': 'attributes'\n",
    "})"
   ]
  },
  {
   "cell_type": "code",
   "execution_count": 157,
   "metadata": {},
   "outputs": [],
   "source": [
    "data['timestamp'] = pd.to_datetime(data['timestamp'])  # Convert 'timestamp' column to datetime format\n",
    "df = data.sort_values(by=['case_id', 'timestamp'])  # Sorting by 'case_id' and 'timestamp'"
   ]
  },
  {
   "cell_type": "code",
   "execution_count": 158,
   "metadata": {},
   "outputs": [
    {
     "name": "stdout",
     "output_type": "stream",
     "text": [
      "Number of unique values in the column 'case_id': 3246\n"
     ]
    }
   ],
   "source": [
    "unique_cases = data['case_id'].nunique()\n",
    "print(\"Number of unique values in the column 'case_id':\", unique_cases)\n"
   ]
  },
  {
   "cell_type": "code",
   "execution_count": 159,
   "metadata": {},
   "outputs": [
    {
     "data": {
      "text/html": [
       "<div>\n",
       "<style scoped>\n",
       "    .dataframe tbody tr th:only-of-type {\n",
       "        vertical-align: middle;\n",
       "    }\n",
       "\n",
       "    .dataframe tbody tr th {\n",
       "        vertical-align: top;\n",
       "    }\n",
       "\n",
       "    .dataframe thead th {\n",
       "        text-align: right;\n",
       "    }\n",
       "</style>\n",
       "<table border=\"1\" class=\"dataframe\">\n",
       "  <thead>\n",
       "    <tr style=\"text-align: right;\">\n",
       "      <th></th>\n",
       "      <th>case_id</th>\n",
       "      <th>timestamp</th>\n",
       "      <th>activity</th>\n",
       "      <th>duration</th>\n",
       "      <th>attributes</th>\n",
       "    </tr>\n",
       "  </thead>\n",
       "  <tbody>\n",
       "    <tr>\n",
       "      <th>0</th>\n",
       "      <td>cng.edu</td>\n",
       "      <td>2022-02-09</td>\n",
       "      <td>user_session</td>\n",
       "      <td>0</td>\n",
       "      <td>['traffic_source:google.com','traffic_medium:o...</td>\n",
       "    </tr>\n",
       "    <tr>\n",
       "      <th>1</th>\n",
       "      <td>cng.edu</td>\n",
       "      <td>2021-11-29</td>\n",
       "      <td>contact created</td>\n",
       "      <td>0</td>\n",
       "      <td>['contact_job_title:Director of Technology and...</td>\n",
       "    </tr>\n",
       "    <tr>\n",
       "      <th>2</th>\n",
       "      <td>cng.edu</td>\n",
       "      <td>2021-11-30</td>\n",
       "      <td>disco_call_book</td>\n",
       "      <td>-2</td>\n",
       "      <td>['desired_job_title','call_booked_by_contact_j...</td>\n",
       "    </tr>\n",
       "    <tr>\n",
       "      <th>3</th>\n",
       "      <td>cng.edu</td>\n",
       "      <td>2021-11-29</td>\n",
       "      <td>lead_created</td>\n",
       "      <td>-3</td>\n",
       "      <td>[]</td>\n",
       "    </tr>\n",
       "    <tr>\n",
       "      <th>4</th>\n",
       "      <td>cng.edu</td>\n",
       "      <td>2021-11-29</td>\n",
       "      <td>user_session</td>\n",
       "      <td>0</td>\n",
       "      <td>['traffic_source:google.com','traffic_medium:o...</td>\n",
       "    </tr>\n",
       "  </tbody>\n",
       "</table>\n",
       "</div>"
      ],
      "text/plain": [
       "   case_id  timestamp         activity  duration  \\\n",
       "0  cng.edu 2022-02-09     user_session         0   \n",
       "1  cng.edu 2021-11-29  contact created         0   \n",
       "2  cng.edu 2021-11-30  disco_call_book        -2   \n",
       "3  cng.edu 2021-11-29     lead_created        -3   \n",
       "4  cng.edu 2021-11-29     user_session         0   \n",
       "\n",
       "                                          attributes  \n",
       "0  ['traffic_source:google.com','traffic_medium:o...  \n",
       "1  ['contact_job_title:Director of Technology and...  \n",
       "2  ['desired_job_title','call_booked_by_contact_j...  \n",
       "3                                                 []  \n",
       "4  ['traffic_source:google.com','traffic_medium:o...  "
      ]
     },
     "execution_count": 159,
     "metadata": {},
     "output_type": "execute_result"
    }
   ],
   "source": [
    "data.head()"
   ]
  },
  {
   "cell_type": "code",
   "execution_count": 160,
   "metadata": {},
   "outputs": [],
   "source": [
    "data['time_diff'] = data.groupby('case_id')['timestamp'].diff().dt.days  # Calculating the difference in days between neighboring events in each process\n",
    "\n",
    "# Identifying the most vulnerable process\n",
    "process_duration = data.groupby('activity')['time_diff'].sum()  # Summarizing the time difference for each process\n",
    "most_vulnerable_process = process_duration.idxmax()  # Identification of the process with the longest duration"
   ]
  },
  {
   "cell_type": "code",
   "execution_count": 161,
   "metadata": {},
   "outputs": [
    {
     "data": {
      "text/html": [
       "<div>\n",
       "<style scoped>\n",
       "    .dataframe tbody tr th:only-of-type {\n",
       "        vertical-align: middle;\n",
       "    }\n",
       "\n",
       "    .dataframe tbody tr th {\n",
       "        vertical-align: top;\n",
       "    }\n",
       "\n",
       "    .dataframe thead th {\n",
       "        text-align: right;\n",
       "    }\n",
       "</style>\n",
       "<table border=\"1\" class=\"dataframe\">\n",
       "  <thead>\n",
       "    <tr style=\"text-align: right;\">\n",
       "      <th></th>\n",
       "      <th>case_id</th>\n",
       "      <th>timestamp</th>\n",
       "      <th>activity</th>\n",
       "      <th>duration</th>\n",
       "      <th>attributes</th>\n",
       "      <th>time_diff</th>\n",
       "    </tr>\n",
       "  </thead>\n",
       "  <tbody>\n",
       "    <tr>\n",
       "      <th>0</th>\n",
       "      <td>cng.edu</td>\n",
       "      <td>2022-02-09</td>\n",
       "      <td>user_session</td>\n",
       "      <td>0</td>\n",
       "      <td>['traffic_source:google.com','traffic_medium:o...</td>\n",
       "      <td>NaN</td>\n",
       "    </tr>\n",
       "    <tr>\n",
       "      <th>1</th>\n",
       "      <td>cng.edu</td>\n",
       "      <td>2021-11-29</td>\n",
       "      <td>contact created</td>\n",
       "      <td>0</td>\n",
       "      <td>['contact_job_title:Director of Technology and...</td>\n",
       "      <td>-72.0</td>\n",
       "    </tr>\n",
       "    <tr>\n",
       "      <th>2</th>\n",
       "      <td>cng.edu</td>\n",
       "      <td>2021-11-30</td>\n",
       "      <td>disco_call_book</td>\n",
       "      <td>-2</td>\n",
       "      <td>['desired_job_title','call_booked_by_contact_j...</td>\n",
       "      <td>1.0</td>\n",
       "    </tr>\n",
       "    <tr>\n",
       "      <th>3</th>\n",
       "      <td>cng.edu</td>\n",
       "      <td>2021-11-29</td>\n",
       "      <td>lead_created</td>\n",
       "      <td>-3</td>\n",
       "      <td>[]</td>\n",
       "      <td>-1.0</td>\n",
       "    </tr>\n",
       "    <tr>\n",
       "      <th>4</th>\n",
       "      <td>cng.edu</td>\n",
       "      <td>2021-11-29</td>\n",
       "      <td>user_session</td>\n",
       "      <td>0</td>\n",
       "      <td>['traffic_source:google.com','traffic_medium:o...</td>\n",
       "      <td>0.0</td>\n",
       "    </tr>\n",
       "  </tbody>\n",
       "</table>\n",
       "</div>"
      ],
      "text/plain": [
       "   case_id  timestamp         activity  duration  \\\n",
       "0  cng.edu 2022-02-09     user_session         0   \n",
       "1  cng.edu 2021-11-29  contact created         0   \n",
       "2  cng.edu 2021-11-30  disco_call_book        -2   \n",
       "3  cng.edu 2021-11-29     lead_created        -3   \n",
       "4  cng.edu 2021-11-29     user_session         0   \n",
       "\n",
       "                                          attributes  time_diff  \n",
       "0  ['traffic_source:google.com','traffic_medium:o...        NaN  \n",
       "1  ['contact_job_title:Director of Technology and...      -72.0  \n",
       "2  ['desired_job_title','call_booked_by_contact_j...        1.0  \n",
       "3                                                 []       -1.0  \n",
       "4  ['traffic_source:google.com','traffic_medium:o...        0.0  "
      ]
     },
     "execution_count": 161,
     "metadata": {},
     "output_type": "execute_result"
    }
   ],
   "source": [
    "data.head()"
   ]
  },
  {
   "cell_type": "code",
   "execution_count": 162,
   "metadata": {},
   "outputs": [],
   "source": [
    "#data.to_csv('data/events1.csv', index=False)"
   ]
  },
  {
   "cell_type": "code",
   "execution_count": 164,
   "metadata": {},
   "outputs": [
    {
     "data": {
      "image/png": "[encoded data removed]",
      "text/plain": [
       "<Figure size 640x480 with 1 Axes>"
      ]
     },
     "metadata": {},
     "output_type": "display_data"
    }
   ],
   "source": [
    "# Graph creation\n",
    "G = nx.DiGraph()\n",
    "G.add_edges_from([\n",
    "    ('process start', 'contact created'),\n",
    "    ('contact created', 'user_session'),\n",
    "    ('user_session', 'lead_created'),\n",
    "    ('lead_created', 'disco_call_book'),\n",
    "    ('disco_call_book', 'end process')\n",
    "])\n",
    "\n",
    "# Identifying the most vulnerable process\n",
    "most_vulnerable_process = 'disco_call_book'\n",
    "\n",
    "# Defining node positions for visualization\n",
    "pos = nx.spring_layout(G)\n",
    "\n",
    "# Graph display\n",
    "nx.draw_networkx(G, pos, with_labels=True, node_color='lightblue', node_size=2000, font_size=10)\n",
    "\n",
    "# Highlighting the most vulnerable process\n",
    "nx.draw_networkx_nodes(G, pos, nodelist=[most_vulnerable_process], node_color='red', node_size=2000)\n",
    "\n",
    "# Customizing the appearance of the graph\n",
    "plt.title(\"Activity diagram highlighting the most vulnerable process\")\n",
    "plt.axis('off')\n",
    "\n",
    "# Graph display\n",
    "plt.show()\n"
   ]
  }
 ],
 "metadata": {
  "kernelspec": {
   "display_name": "Python 3",
   "language": "python",
   "name": "python3"
  },
  "language_info": {
   "codemirror_mode": {
    "name": "ipython",
    "version": 3
   },
   "file_extension": ".py",
   "mimetype": "text/x-python",
   "name": "python",
   "nbconvert_exporter": "python",
   "pygments_lexer": "ipython3",
   "version": "3.9.10"
  },
  "orig_nbformat": 4
 },
 "nbformat": 4,
 "nbformat_minor": 2
}
